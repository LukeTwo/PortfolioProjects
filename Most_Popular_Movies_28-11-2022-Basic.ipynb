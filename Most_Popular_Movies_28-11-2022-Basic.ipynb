{
 "cells": [
  {
   "cell_type": "code",
   "execution_count": 1,
   "id": "e01cc412",
   "metadata": {},
   "outputs": [],
   "source": [
    "from bs4 import BeautifulSoup\n",
    "import requests\n",
    "import pandas as pd"
   ]
  },
  {
   "cell_type": "code",
   "execution_count": 2,
   "id": "d2758617",
   "metadata": {},
   "outputs": [],
   "source": [
    "## this url contains the top most viewed movie pages on IMDB within a specified period of time\n",
    "url = 'https://www.imdb.com/chart/moviemeter?sort=rk,asc&mode=simple&page=1'"
   ]
  },
  {
   "cell_type": "code",
   "execution_count": 3,
   "id": "49d87fa6",
   "metadata": {},
   "outputs": [
    {
     "data": {
      "text/plain": [
       "<Response [200]>"
      ]
     },
     "execution_count": 3,
     "metadata": {},
     "output_type": "execute_result"
    }
   ],
   "source": [
    "page = requests.get(url)\n",
    "page"
   ]
  },
  {
   "cell_type": "code",
   "execution_count": 4,
   "id": "9773d37d",
   "metadata": {},
   "outputs": [],
   "source": [
    "## check the page source code\n",
    "# page.content"
   ]
  },
  {
   "cell_type": "code",
   "execution_count": 5,
   "id": "d7e601aa",
   "metadata": {},
   "outputs": [],
   "source": [
    "soup = BeautifulSoup(page.content, \"html.parser\")"
   ]
  },
  {
   "cell_type": "code",
   "execution_count": 6,
   "id": "636ee7d3",
   "metadata": {},
   "outputs": [],
   "source": [
    "## get movie names\n",
    "movie_name_info = soup.find_all('td', class_='titleColumn')"
   ]
  },
  {
   "cell_type": "code",
   "execution_count": 7,
   "id": "6ea4fbe7",
   "metadata": {},
   "outputs": [],
   "source": [
    "## tidy movie names\n",
    "movie_names = []\n",
    "for movie in movie_name_info:\n",
    "    movie = movie.find('a')\n",
    "    movie = movie.get_text().replace('\\n', \"\")\n",
    "    movie = movie.strip(\" \")\n",
    "    movie = movie.split(\"(\")[0]\n",
    "    movie_names.append(movie)"
   ]
  },
  {
   "cell_type": "code",
   "execution_count": 8,
   "id": "3b6be2e1",
   "metadata": {},
   "outputs": [],
   "source": [
    "## get movie ids\n",
    "movie_ids = []\n",
    "for movie in movie_name_info:\n",
    "    movie = movie.find('a')\n",
    "    movie = movie.get(\"href\")\n",
    "    movie = movie.split(\"/\")[2]\n",
    "    movie_ids.append(movie)"
   ]
  },
  {
   "cell_type": "code",
   "execution_count": 9,
   "id": "502168e9",
   "metadata": {},
   "outputs": [],
   "source": [
    "## get year of movie, most get ride of brackets to convert to int\n",
    "## if year isn't available, we assign None\n",
    "movie_years = []\n",
    "for movie in movie_name_info:\n",
    "    movie = movie.find('span', class_='secondaryInfo')\n",
    "    movie = movie.get_text()\n",
    "    movie = movie.replace(\"(\", '')\n",
    "    movie = movie.replace(\")\", '')\n",
    "    if len(movie) > 4:\n",
    "        movie = None\n",
    "    movie_years.append(movie)"
   ]
  },
  {
   "cell_type": "code",
   "execution_count": 10,
   "id": "6ea7c9bc",
   "metadata": {},
   "outputs": [],
   "source": [
    "## get movie rating info\n",
    "movie_rating_info = soup.find_all('td', class_='ratingColumn imdbRating')"
   ]
  },
  {
   "cell_type": "code",
   "execution_count": 11,
   "id": "6a014150",
   "metadata": {},
   "outputs": [],
   "source": [
    "## get movie ratings\n",
    "movie_ratings = []\n",
    "for movie in movie_rating_info:\n",
    "    movie = movie.get_text().replace(\"\\n\",\"\")\n",
    "    movie_ratings.append(movie)"
   ]
  },
  {
   "cell_type": "code",
   "execution_count": 12,
   "id": "31ea4827",
   "metadata": {},
   "outputs": [],
   "source": [
    "## create dataframe using pandas\n",
    "d = {'ID' : movie_ids, 'Name' : movie_names, 'Rating' : movie_ratings, 'Year' : movie_years}\n",
    "df = pd.DataFrame(data = d)"
   ]
  },
  {
   "cell_type": "code",
   "execution_count": 13,
   "id": "4afea6e9",
   "metadata": {},
   "outputs": [
    {
     "data": {
      "text/html": [
       "<div>\n",
       "<style scoped>\n",
       "    .dataframe tbody tr th:only-of-type {\n",
       "        vertical-align: middle;\n",
       "    }\n",
       "\n",
       "    .dataframe tbody tr th {\n",
       "        vertical-align: top;\n",
       "    }\n",
       "\n",
       "    .dataframe thead th {\n",
       "        text-align: right;\n",
       "    }\n",
       "</style>\n",
       "<table border=\"1\" class=\"dataframe\">\n",
       "  <thead>\n",
       "    <tr style=\"text-align: right;\">\n",
       "      <th></th>\n",
       "      <th>ID</th>\n",
       "      <th>Name</th>\n",
       "      <th>Rating</th>\n",
       "      <th>Year</th>\n",
       "    </tr>\n",
       "  </thead>\n",
       "  <tbody>\n",
       "    <tr>\n",
       "      <th>0</th>\n",
       "      <td>tt9114286</td>\n",
       "      <td>Black Panther: Wakanda Forever</td>\n",
       "      <td>7.3</td>\n",
       "      <td>2022</td>\n",
       "    </tr>\n",
       "    <tr>\n",
       "      <th>1</th>\n",
       "      <td>tt10999120</td>\n",
       "      <td>Spirited</td>\n",
       "      <td>6.6</td>\n",
       "      <td>2022</td>\n",
       "    </tr>\n",
       "    <tr>\n",
       "      <th>2</th>\n",
       "      <td>tt9764362</td>\n",
       "      <td>The Menu</td>\n",
       "      <td>7.5</td>\n",
       "      <td>2022</td>\n",
       "    </tr>\n",
       "    <tr>\n",
       "      <th>3</th>\n",
       "      <td>tt1596342</td>\n",
       "      <td>Disenchanted</td>\n",
       "      <td>5.8</td>\n",
       "      <td>2022</td>\n",
       "    </tr>\n",
       "    <tr>\n",
       "      <th>4</th>\n",
       "      <td>tt17220704</td>\n",
       "      <td>A Christmas Story Christmas</td>\n",
       "      <td>7.0</td>\n",
       "      <td>2022</td>\n",
       "    </tr>\n",
       "    <tr>\n",
       "      <th>5</th>\n",
       "      <td>tt13320662</td>\n",
       "      <td>Slumberland</td>\n",
       "      <td>6.7</td>\n",
       "      <td>2022</td>\n",
       "    </tr>\n",
       "    <tr>\n",
       "      <th>6</th>\n",
       "      <td>tt9288822</td>\n",
       "      <td>The Wonder</td>\n",
       "      <td>6.7</td>\n",
       "      <td>2022</td>\n",
       "    </tr>\n",
       "    <tr>\n",
       "      <th>7</th>\n",
       "      <td>tt1630029</td>\n",
       "      <td>Avatar: The Way of Water</td>\n",
       "      <td></td>\n",
       "      <td>2022</td>\n",
       "    </tr>\n",
       "    <tr>\n",
       "      <th>8</th>\n",
       "      <td>tt10168670</td>\n",
       "      <td>Bones and All</td>\n",
       "      <td>7.3</td>\n",
       "      <td>2022</td>\n",
       "    </tr>\n",
       "    <tr>\n",
       "      <th>9</th>\n",
       "      <td>tt6443346</td>\n",
       "      <td>Black Adam</td>\n",
       "      <td>6.8</td>\n",
       "      <td>2022</td>\n",
       "    </tr>\n",
       "  </tbody>\n",
       "</table>\n",
       "</div>"
      ],
      "text/plain": [
       "           ID                            Name Rating  Year\n",
       "0   tt9114286  Black Panther: Wakanda Forever    7.3  2022\n",
       "1  tt10999120                        Spirited    6.6  2022\n",
       "2   tt9764362                        The Menu    7.5  2022\n",
       "3   tt1596342                    Disenchanted    5.8  2022\n",
       "4  tt17220704     A Christmas Story Christmas    7.0  2022\n",
       "5  tt13320662                     Slumberland    6.7  2022\n",
       "6   tt9288822                      The Wonder    6.7  2022\n",
       "7   tt1630029        Avatar: The Way of Water         2022\n",
       "8  tt10168670                   Bones and All    7.3  2022\n",
       "9   tt6443346                      Black Adam    6.8  2022"
      ]
     },
     "execution_count": 13,
     "metadata": {},
     "output_type": "execute_result"
    }
   ],
   "source": [
    "df.head(10)"
   ]
  },
  {
   "cell_type": "code",
   "execution_count": 14,
   "id": "14ba2b81",
   "metadata": {},
   "outputs": [],
   "source": [
    "## change rating column to type float and Year to Int\n",
    "df['Rating'] = df['Rating'].replace([''], None)\n",
    "df['Rating'] = df['Rating'].astype('float')\n",
    "df['Year'] = df['Year'].astype('Int64')"
   ]
  },
  {
   "cell_type": "code",
   "execution_count": 15,
   "id": "a994dd47",
   "metadata": {},
   "outputs": [],
   "source": [
    "df = df.sort_values(by=['Rating'], ascending = False)"
   ]
  },
  {
   "cell_type": "code",
   "execution_count": 16,
   "id": "66e93a9a",
   "metadata": {},
   "outputs": [
    {
     "data": {
      "text/html": [
       "<div>\n",
       "<style scoped>\n",
       "    .dataframe tbody tr th:only-of-type {\n",
       "        vertical-align: middle;\n",
       "    }\n",
       "\n",
       "    .dataframe tbody tr th {\n",
       "        vertical-align: top;\n",
       "    }\n",
       "\n",
       "    .dataframe thead th {\n",
       "        text-align: right;\n",
       "    }\n",
       "</style>\n",
       "<table border=\"1\" class=\"dataframe\">\n",
       "  <thead>\n",
       "    <tr style=\"text-align: right;\">\n",
       "      <th></th>\n",
       "      <th>ID</th>\n",
       "      <th>Name</th>\n",
       "      <th>Rating</th>\n",
       "      <th>Year</th>\n",
       "    </tr>\n",
       "  </thead>\n",
       "  <tbody>\n",
       "    <tr>\n",
       "      <th>84</th>\n",
       "      <td>tt0111161</td>\n",
       "      <td>The Shawshank Redemption</td>\n",
       "      <td>9.3</td>\n",
       "      <td>1994</td>\n",
       "    </tr>\n",
       "    <tr>\n",
       "      <th>64</th>\n",
       "      <td>tt0068646</td>\n",
       "      <td>The Godfather</td>\n",
       "      <td>9.2</td>\n",
       "      <td>1972</td>\n",
       "    </tr>\n",
       "    <tr>\n",
       "      <th>48</th>\n",
       "      <td>tt15327088</td>\n",
       "      <td>Kantara</td>\n",
       "      <td>8.9</td>\n",
       "      <td>2022</td>\n",
       "    </tr>\n",
       "    <tr>\n",
       "      <th>98</th>\n",
       "      <td>tt0110912</td>\n",
       "      <td>Pulp Fiction</td>\n",
       "      <td>8.9</td>\n",
       "      <td>1994</td>\n",
       "    </tr>\n",
       "    <tr>\n",
       "      <th>24</th>\n",
       "      <td>tt15501640</td>\n",
       "      <td>Drishyam 2</td>\n",
       "      <td>8.8</td>\n",
       "      <td>2022</td>\n",
       "    </tr>\n",
       "    <tr>\n",
       "      <th>30</th>\n",
       "      <td>tt13833688</td>\n",
       "      <td>The Whale</td>\n",
       "      <td>8.5</td>\n",
       "      <td>2022</td>\n",
       "    </tr>\n",
       "    <tr>\n",
       "      <th>31</th>\n",
       "      <td>tt1745960</td>\n",
       "      <td>Top Gun: Maverick</td>\n",
       "      <td>8.4</td>\n",
       "      <td>2022</td>\n",
       "    </tr>\n",
       "    <tr>\n",
       "      <th>16</th>\n",
       "      <td>tt14208870</td>\n",
       "      <td>The Fabelmans</td>\n",
       "      <td>8.3</td>\n",
       "      <td>2022</td>\n",
       "    </tr>\n",
       "    <tr>\n",
       "      <th>95</th>\n",
       "      <td>tt0993846</td>\n",
       "      <td>The Wolf of Wall Street</td>\n",
       "      <td>8.2</td>\n",
       "      <td>2013</td>\n",
       "    </tr>\n",
       "    <tr>\n",
       "      <th>36</th>\n",
       "      <td>tt11813216</td>\n",
       "      <td>The Banshees of Inisherin</td>\n",
       "      <td>8.2</td>\n",
       "      <td>2022</td>\n",
       "    </tr>\n",
       "  </tbody>\n",
       "</table>\n",
       "</div>"
      ],
      "text/plain": [
       "            ID                       Name  Rating  Year\n",
       "84   tt0111161   The Shawshank Redemption     9.3  1994\n",
       "64   tt0068646              The Godfather     9.2  1972\n",
       "48  tt15327088                    Kantara     8.9  2022\n",
       "98   tt0110912               Pulp Fiction     8.9  1994\n",
       "24  tt15501640                 Drishyam 2     8.8  2022\n",
       "30  tt13833688                  The Whale     8.5  2022\n",
       "31   tt1745960          Top Gun: Maverick     8.4  2022\n",
       "16  tt14208870              The Fabelmans     8.3  2022\n",
       "95   tt0993846    The Wolf of Wall Street     8.2  2013\n",
       "36  tt11813216  The Banshees of Inisherin     8.2  2022"
      ]
     },
     "execution_count": 16,
     "metadata": {},
     "output_type": "execute_result"
    }
   ],
   "source": [
    "## top 10 highest rated movies in the top 100 'hottest' movies\n",
    "df.head(10)"
   ]
  },
  {
   "cell_type": "code",
   "execution_count": null,
   "id": "0d8c9637",
   "metadata": {},
   "outputs": [],
   "source": []
  }
 ],
 "metadata": {
  "kernelspec": {
   "display_name": "Python 3 (ipykernel)",
   "language": "python",
   "name": "python3"
  },
  "language_info": {
   "codemirror_mode": {
    "name": "ipython",
    "version": 3
   },
   "file_extension": ".py",
   "mimetype": "text/x-python",
   "name": "python",
   "nbconvert_exporter": "python",
   "pygments_lexer": "ipython3",
   "version": "3.9.13"
  }
 },
 "nbformat": 4,
 "nbformat_minor": 5
}
